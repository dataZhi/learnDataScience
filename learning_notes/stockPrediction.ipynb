{
 "cells": [
  {
   "cell_type": "code",
   "execution_count": 12,
   "id": "256364f6-2dc5-4e6c-91c6-bf6d936f3f78",
   "metadata": {},
   "outputs": [],
   "source": [
    "import numpy as np\n",
    "import pandas as pd\n",
    "import matplotlib.pyplot as plt\n",
    "from tqdm import trange\n",
    "import torch\n",
    "from torch import nn, optim\n",
    "from torch.utils.data import TensorDataset, DataLoader\n",
    "from torch.utils.tensorboard import SummaryWriter\n",
    "from sklearn.metrics import r2_score\n",
    "from sklearn.preprocessing import MinMaxScaler"
   ]
  },
  {
   "cell_type": "markdown",
   "id": "ff457243-bd9f-43a3-9eda-e1d2911745ff",
   "metadata": {},
   "source": [
    "# 数据准备"
   ]
  },
  {
   "cell_type": "code",
   "execution_count": 13,
   "id": "b7f2684b-0f59-4c1d-b724-8dd7f5ef76e5",
   "metadata": {},
   "outputs": [
    {
     "data": {
      "text/html": [
       "<div>\n",
       "<style scoped>\n",
       "    .dataframe tbody tr th:only-of-type {\n",
       "        vertical-align: middle;\n",
       "    }\n",
       "\n",
       "    .dataframe tbody tr th {\n",
       "        vertical-align: top;\n",
       "    }\n",
       "\n",
       "    .dataframe thead th {\n",
       "        text-align: right;\n",
       "    }\n",
       "</style>\n",
       "<table border=\"1\" class=\"dataframe\">\n",
       "  <thead>\n",
       "    <tr style=\"text-align: right;\">\n",
       "      <th></th>\n",
       "      <th>Date</th>\n",
       "      <th>Open</th>\n",
       "      <th>High</th>\n",
       "      <th>Low</th>\n",
       "      <th>Close</th>\n",
       "      <th>Vol</th>\n",
       "    </tr>\n",
       "  </thead>\n",
       "  <tbody>\n",
       "    <tr>\n",
       "      <th>0</th>\n",
       "      <td>2005/1/4</td>\n",
       "      <td>1150</td>\n",
       "      <td>1154</td>\n",
       "      <td>1143</td>\n",
       "      <td>1145</td>\n",
       "      <td>101322</td>\n",
       "    </tr>\n",
       "    <tr>\n",
       "      <th>1</th>\n",
       "      <td>2005/1/5</td>\n",
       "      <td>1141</td>\n",
       "      <td>1152</td>\n",
       "      <td>1141</td>\n",
       "      <td>1151</td>\n",
       "      <td>115404</td>\n",
       "    </tr>\n",
       "    <tr>\n",
       "      <th>2</th>\n",
       "      <td>2005/1/6</td>\n",
       "      <td>1151</td>\n",
       "      <td>1157</td>\n",
       "      <td>1151</td>\n",
       "      <td>1154</td>\n",
       "      <td>116530</td>\n",
       "    </tr>\n",
       "  </tbody>\n",
       "</table>\n",
       "</div>"
      ],
      "text/plain": [
       "       Date  Open  High   Low  Close     Vol\n",
       "0  2005/1/4  1150  1154  1143   1145  101322\n",
       "1  2005/1/5  1141  1152  1141   1151  115404\n",
       "2  2005/1/6  1151  1157  1151   1154  116530"
      ]
     },
     "execution_count": 13,
     "metadata": {},
     "output_type": "execute_result"
    }
   ],
   "source": [
    "df = pd.read_csv(\"Corn_dat.csv\")\n",
    "df.head(3)"
   ]
  },
  {
   "cell_type": "code",
   "execution_count": 14,
   "id": "852a41b5-0345-4d0c-a5ea-250b2a4678db",
   "metadata": {},
   "outputs": [
    {
     "data": {
      "text/plain": [
       "(4027, 6)"
      ]
     },
     "execution_count": 14,
     "metadata": {},
     "output_type": "execute_result"
    }
   ],
   "source": [
    "df.shape"
   ]
  },
  {
   "cell_type": "markdown",
   "id": "84231d4b-0e98-4c65-a952-0a29a5e547dc",
   "metadata": {},
   "source": [
    "## 数据预处理\n",
    "- 以后1000条记录作为测试集，所以预处理时仅可使用之前的数据"
   ]
  },
  {
   "cell_type": "code",
   "execution_count": 15,
   "id": "754fcd74-f4a0-46dc-ac3f-1f9918081d89",
   "metadata": {},
   "outputs": [],
   "source": [
    "from sklearn.preprocessing import MinMaxScaler\n",
    "mms = MinMaxScaler()\n",
    "mms.fit(df.iloc[:-800][[\"Open\", \"High\", \"Low\", \"Close\", \"Vol\"]])\n",
    "df[[\"Open\", \"High\", \"Low\", \"Close\", \"Vol\"]] = mms.transform(df[[\"Open\", \"High\", \"Low\", \"Close\", \"Vol\"]])"
   ]
  },
  {
   "cell_type": "code",
   "execution_count": 16,
   "id": "239479e0-2db2-43b0-9b98-9285d73ad1b3",
   "metadata": {},
   "outputs": [
    {
     "data": {
      "text/html": [
       "<div>\n",
       "<style scoped>\n",
       "    .dataframe tbody tr th:only-of-type {\n",
       "        vertical-align: middle;\n",
       "    }\n",
       "\n",
       "    .dataframe tbody tr th {\n",
       "        vertical-align: top;\n",
       "    }\n",
       "\n",
       "    .dataframe thead th {\n",
       "        text-align: right;\n",
       "    }\n",
       "</style>\n",
       "<table border=\"1\" class=\"dataframe\">\n",
       "  <thead>\n",
       "    <tr style=\"text-align: right;\">\n",
       "      <th></th>\n",
       "      <th>Open</th>\n",
       "      <th>High</th>\n",
       "      <th>Low</th>\n",
       "      <th>Close</th>\n",
       "      <th>Vol</th>\n",
       "    </tr>\n",
       "  </thead>\n",
       "  <tbody>\n",
       "    <tr>\n",
       "      <th>count</th>\n",
       "      <td>4027.000000</td>\n",
       "      <td>4027.000000</td>\n",
       "      <td>4027.000000</td>\n",
       "      <td>4027.000000</td>\n",
       "      <td>4027.000000</td>\n",
       "    </tr>\n",
       "    <tr>\n",
       "      <th>mean</th>\n",
       "      <td>0.761073</td>\n",
       "      <td>0.568585</td>\n",
       "      <td>0.758978</td>\n",
       "      <td>0.761103</td>\n",
       "      <td>0.089978</td>\n",
       "    </tr>\n",
       "    <tr>\n",
       "      <th>std</th>\n",
       "      <td>0.154262</td>\n",
       "      <td>0.277390</td>\n",
       "      <td>0.154109</td>\n",
       "      <td>0.154221</td>\n",
       "      <td>0.088783</td>\n",
       "    </tr>\n",
       "    <tr>\n",
       "      <th>min</th>\n",
       "      <td>0.000000</td>\n",
       "      <td>0.000000</td>\n",
       "      <td>0.000000</td>\n",
       "      <td>0.000000</td>\n",
       "      <td>0.000000</td>\n",
       "    </tr>\n",
       "    <tr>\n",
       "      <th>25%</th>\n",
       "      <td>0.650391</td>\n",
       "      <td>0.368939</td>\n",
       "      <td>0.648337</td>\n",
       "      <td>0.650781</td>\n",
       "      <td>0.026120</td>\n",
       "    </tr>\n",
       "    <tr>\n",
       "      <th>50%</th>\n",
       "      <td>0.735547</td>\n",
       "      <td>0.521434</td>\n",
       "      <td>0.733464</td>\n",
       "      <td>0.735547</td>\n",
       "      <td>0.063542</td>\n",
       "    </tr>\n",
       "    <tr>\n",
       "      <th>75%</th>\n",
       "      <td>0.919141</td>\n",
       "      <td>0.851019</td>\n",
       "      <td>0.918200</td>\n",
       "      <td>0.919336</td>\n",
       "      <td>0.125015</td>\n",
       "    </tr>\n",
       "    <tr>\n",
       "      <th>max</th>\n",
       "      <td>1.123828</td>\n",
       "      <td>1.251581</td>\n",
       "      <td>1.124070</td>\n",
       "      <td>1.125391</td>\n",
       "      <td>1.000000</td>\n",
       "    </tr>\n",
       "  </tbody>\n",
       "</table>\n",
       "</div>"
      ],
      "text/plain": [
       "              Open         High          Low        Close          Vol\n",
       "count  4027.000000  4027.000000  4027.000000  4027.000000  4027.000000\n",
       "mean      0.761073     0.568585     0.758978     0.761103     0.089978\n",
       "std       0.154262     0.277390     0.154109     0.154221     0.088783\n",
       "min       0.000000     0.000000     0.000000     0.000000     0.000000\n",
       "25%       0.650391     0.368939     0.648337     0.650781     0.026120\n",
       "50%       0.735547     0.521434     0.733464     0.735547     0.063542\n",
       "75%       0.919141     0.851019     0.918200     0.919336     0.125015\n",
       "max       1.123828     1.251581     1.124070     1.125391     1.000000"
      ]
     },
     "execution_count": 16,
     "metadata": {},
     "output_type": "execute_result"
    }
   ],
   "source": [
    "df.describe()"
   ]
  },
  {
   "cell_type": "markdown",
   "id": "5a747b96-6f5e-4a54-99c4-516bb4fd86ce",
   "metadata": {},
   "source": [
    "### 数据集构建：[n_samples, seq_len, n_features]"
   ]
  },
  {
   "cell_type": "code",
   "execution_count": 17,
   "id": "4acfe0ac-9da1-4122-935f-27b3f5be86a9",
   "metadata": {},
   "outputs": [
    {
     "name": "stderr",
     "output_type": "stream",
     "text": [
      "C:\\Users\\Luan\\AppData\\Local\\Temp\\ipykernel_5976\\2297038837.py:8: UserWarning: Creating a tensor from a list of numpy.ndarrays is extremely slow. Please consider converting the list to a single numpy.ndarray with numpy.array() before converting to a tensor. (Triggered internally at  C:\\actions-runner\\_work\\pytorch\\pytorch\\builder\\windows\\pytorch\\torch\\csrc\\utils\\tensor_new.cpp:210.)\n",
      "  X = torch.tensor(X, dtype=torch.float)\n"
     ]
    },
    {
     "data": {
      "text/plain": [
       "(torch.Size([3997, 30, 5]), torch.Size([3997, 1]), torch.Size([3997, 1]))"
      ]
     },
     "execution_count": 17,
     "metadata": {},
     "output_type": "execute_result"
    }
   ],
   "source": [
    "X = []\n",
    "y = []\n",
    "yc = []\n",
    "for i in range(30, len(df)):\n",
    "    X.append(df.iloc[i-30:i, 1:6].values)\n",
    "    y.append(df.iloc[i, 4])\n",
    "    yc.append(1 if df.iloc[i, 4]>df.iloc[i-1, 4] else 0)\n",
    "X = torch.tensor(X, dtype=torch.float)\n",
    "y = torch.tensor(y, dtype=torch.float).view(-1, 1)\n",
    "yc = torch.tensor(yc, dtype=torch.float).view(-1, 1)\n",
    "X.shape, y.shape, yc.shape"
   ]
  },
  {
   "cell_type": "markdown",
   "id": "f4a798e0-5435-48a7-a0cb-a45fb446c659",
   "metadata": {},
   "source": [
    "#### 训练集和测试集切分"
   ]
  },
  {
   "cell_type": "code",
   "execution_count": 18,
   "id": "d1a11e7c-a13f-4e3d-9c3d-66e0fd160bdf",
   "metadata": {},
   "outputs": [
    {
     "data": {
      "text/plain": [
       "(torch.Size([3197, 30, 5]), torch.Size([800, 30, 5]))"
      ]
     },
     "execution_count": 18,
     "metadata": {},
     "output_type": "execute_result"
    }
   ],
   "source": [
    "N = -800\n",
    "X_train, X_test = X[:N], X[N:]\n",
    "y_train, y_test = y[:N], y[N:]\n",
    "yc_train, yc_test = yc[:N], yc[N:]\n",
    "trainloader = DataLoader(TensorDataset(X_train, y_train), 64, True)\n",
    "trainloaderC = DataLoader(TensorDataset(X_train, yc_train), 64, True)\n",
    "X_train.shape, X_test.shape"
   ]
  },
  {
   "cell_type": "code",
   "execution_count": 19,
   "id": "2b976b12-3dd7-4b22-bbb1-ac372909f378",
   "metadata": {},
   "outputs": [],
   "source": [
    "writer = SummaryWriter(log_dir=\"runs/stockPrediction\")"
   ]
  },
  {
   "cell_type": "code",
   "execution_count": 20,
   "id": "b6a43758-e8bb-467f-a7c1-e16ab300afa9",
   "metadata": {},
   "outputs": [],
   "source": [
    "writer.add_image(\"test_image\", torch.randn(3, 256, 256), global_step=2)"
   ]
  },
  {
   "cell_type": "markdown",
   "id": "c12ff6ba-408a-435f-9760-26edd14d1b60",
   "metadata": {},
   "source": [
    "## DNN模型"
   ]
  },
  {
   "cell_type": "code",
   "execution_count": 21,
   "id": "6897ea87-0246-4bad-b1a7-e85156e680f3",
   "metadata": {},
   "outputs": [],
   "source": [
    "class ModelDNN(nn.Module):\n",
    "    def __init__(self, input_size, hiddens=[64, 32, 8]):\n",
    "        super().__init__()\n",
    "        self.hiddens = hiddens\n",
    "        self.net = nn.Sequential(nn.Flatten())\n",
    "        for pre, nxt in zip([input_size]+hiddens[:-1], hiddens):\n",
    "            self.net.append(nn.Linear(pre, nxt))\n",
    "            self.net.append(nn.ReLU())\n",
    "        self.net.append(nn.Linear(hiddens[-1], 1))\n",
    "        \n",
    "    def forward(self, x):\n",
    "        return self.net(x)"
   ]
  },
  {
   "cell_type": "code",
   "execution_count": 22,
   "id": "448c9f81-de44-4e5b-bf6b-3636cea6e71d",
   "metadata": {},
   "outputs": [
    {
     "name": "stderr",
     "output_type": "stream",
     "text": [
      "100%|████████████████████████████████████████████████████████████████████████████████| 100/100 [00:11<00:00,  8.54it/s]\n"
     ]
    }
   ],
   "source": [
    "modelDNN = ModelDNN(30*5)\n",
    "optimizer = optim.Adam(modelDNN.parameters())\n",
    "criterion = nn.MSELoss()\n",
    "\n",
    "logsDNN = {}\n",
    "for i in trange(100):\n",
    "    for X, y in trainloader:\n",
    "        y_pred = modelDNN(X)\n",
    "        loss = criterion(y_pred, y)\n",
    "        optimizer.zero_grad()\n",
    "        loss.backward()\n",
    "        optimizer.step()\n",
    "    if (i+1) % 10 ==0:\n",
    "        with torch.no_grad():\n",
    "            train_pred = modelDNN(X_train)\n",
    "            train_mse = criterion(train_pred, y_train)\n",
    "            test_pred = modelDNN(X_test)\n",
    "            test_mse = criterion(test_pred, y_test)\n",
    "            writer.add_scalar(tag=\"train_log\", scalar_value=train_mse.item(), global_step=i)\n",
    "            writer.add_scalar(tag=\"train_log\", scalar_value=test_mse.item(), global_step=i)\n",
    "        logsDNN[i] = {\"train_mse\":train_mse.item(), \"test_mse\":test_mse.item()}"
   ]
  },
  {
   "cell_type": "code",
   "execution_count": 23,
   "id": "18d11f6a-e150-412d-a6de-5fbc925ee001",
   "metadata": {},
   "outputs": [],
   "source": [
    "writer.add_graph(model=modelDNN, input_to_model=X)"
   ]
  },
  {
   "cell_type": "code",
   "execution_count": null,
   "id": "68f9d977-e255-4c33-8d18-f339f30d00fe",
   "metadata": {},
   "outputs": [],
   "source": [
    "pd.DataFrame(logsDNN).T.plot()"
   ]
  },
  {
   "cell_type": "code",
   "execution_count": 12,
   "id": "a150af9f-892c-4468-ae02-9fa4f09dc611",
   "metadata": {},
   "outputs": [
    {
     "data": {
      "text/plain": [
       "<matplotlib.legend.Legend at 0x1eff2511670>"
      ]
     },
     "execution_count": 12,
     "metadata": {},
     "output_type": "execute_result"
    },
    {
     "data": {
      "image/png": "[encoded data removed]",
      "text/plain": [
       "<Figure size 432x288 with 1 Axes>"
      ]
     },
     "metadata": {
      "needs_background": "light"
     },
     "output_type": "display_data"
    }
   ],
   "source": [
    "plt.plot(y_test, label=\"true\")\n",
    "y_pred_DNN = modelDNN(X_test).data\n",
    "plt.plot(y_pred_DNN, label=\"pred_DNN\")\n",
    "plt.legend()"
   ]
  },
  {
   "cell_type": "markdown",
   "id": "aeeedcee-a55d-4b1e-a2f1-9f33b7ae699c",
   "metadata": {},
   "source": [
    "## CNN模型"
   ]
  },
  {
   "cell_type": "code",
   "execution_count": 24,
   "id": "97aab7fc-4701-40f7-9a0b-cbb735a9ce85",
   "metadata": {},
   "outputs": [],
   "source": [
    "class ModelCNN(nn.Module):\n",
    "    def __init__(self, in_channels, hidden_channels=[8, 4]):\n",
    "        # 均使用kernel=3的卷积核\n",
    "        # N x C x L, L: 30->28->14->12->6\n",
    "        super().__init__()\n",
    "        self.in_channels = in_channels\n",
    "        self.hidden_channels = hidden_channels\n",
    "        self.net = nn.Sequential()\n",
    "        for in_channels, out_channels in zip([in_channels]+hidden_channels[:-1], hidden_channels):\n",
    "            self.net.append(nn.Conv1d(in_channels, out_channels, kernel_size=3))\n",
    "            self.net.append(nn.AvgPool1d(kernel_size=2))\n",
    "        self.net.append(nn.Flatten())\n",
    "        self.net.append(nn.Linear(6*hidden_channels[-1], 1))\n",
    "        \n",
    "    def forward(self, x):\n",
    "        x = x.permute(0, 2, 1)\n",
    "        return self.net(x)"
   ]
  },
  {
   "cell_type": "code",
   "execution_count": 25,
   "id": "5ff87b59-a22b-43ff-ac55-f8424e89399c",
   "metadata": {},
   "outputs": [],
   "source": [
    "class ModelCNNClassifier(nn.Module):\n",
    "    def __init__(self, in_channels, hidden_channels=[8, 4]):\n",
    "        # 均使用kernel=3的卷积核\n",
    "        # N x C x L, L: 30->28->14->12->6\n",
    "        super().__init__()\n",
    "        self.in_channels = in_channels\n",
    "        self.hidden_channels = hidden_channels\n",
    "        self.net = nn.Sequential()\n",
    "        for in_channels, out_channels in zip([in_channels]+hidden_channels[:-1], hidden_channels):\n",
    "            self.net.append(nn.Conv1d(in_channels, out_channels, kernel_size=3))\n",
    "            self.net.append(nn.AvgPool1d(kernel_size=2))\n",
    "        self.net.append(nn.Flatten())\n",
    "        self.net.append(nn.Linear(6*hidden_channels[-1], 1))\n",
    "        self.net.append(nn.Sigmoid())\n",
    "        \n",
    "    def forward(self, x):\n",
    "        x = x.permute(0, 2, 1)\n",
    "        return self.net(x)"
   ]
  },
  {
   "cell_type": "code",
   "execution_count": 26,
   "id": "744a60ed-1e1a-40a1-9e8f-4ec498804cea",
   "metadata": {},
   "outputs": [
    {
     "name": "stderr",
     "output_type": "stream",
     "text": [
      " 11%|████████▉                                                                        | 11/100 [00:01<00:10,  8.24it/s]"
     ]
    },
    {
     "name": "stdout",
     "output_type": "stream",
     "text": [
      "9 0.0005000036908313632 0.0003851907385978848\n"
     ]
    },
    {
     "name": "stderr",
     "output_type": "stream",
     "text": [
      " 21%|█████████████████                                                                | 21/100 [00:02<00:09,  7.93it/s]"
     ]
    },
    {
     "name": "stdout",
     "output_type": "stream",
     "text": [
      "19 0.0004803610790986568 0.000373680901248008\n"
     ]
    },
    {
     "name": "stderr",
     "output_type": "stream",
     "text": [
      " 31%|█████████████████████████                                                        | 31/100 [00:03<00:08,  7.91it/s]"
     ]
    },
    {
     "name": "stdout",
     "output_type": "stream",
     "text": [
      "29 0.0004735670518130064 0.0004133479669690132\n"
     ]
    },
    {
     "name": "stderr",
     "output_type": "stream",
     "text": [
      " 41%|█████████████████████████████████▏                                               | 41/100 [00:05<00:07,  7.73it/s]"
     ]
    },
    {
     "name": "stdout",
     "output_type": "stream",
     "text": [
      "39 0.0004542860551737249 0.000398518139263615\n"
     ]
    },
    {
     "name": "stderr",
     "output_type": "stream",
     "text": [
      " 51%|█████████████████████████████████████████▎                                       | 51/100 [00:06<00:06,  7.79it/s]"
     ]
    },
    {
     "name": "stdout",
     "output_type": "stream",
     "text": [
      "49 0.000410682667279616 0.0003035810950677842\n"
     ]
    },
    {
     "name": "stderr",
     "output_type": "stream",
     "text": [
      " 61%|█████████████████████████████████████████████████▍                               | 61/100 [00:07<00:05,  7.65it/s]"
     ]
    },
    {
     "name": "stdout",
     "output_type": "stream",
     "text": [
      "59 0.00038785571814514697 0.0002809217548929155\n"
     ]
    },
    {
     "name": "stderr",
     "output_type": "stream",
     "text": [
      " 71%|█████████████████████████████████████████████████████████▌                       | 71/100 [00:09<00:03,  7.90it/s]"
     ]
    },
    {
     "name": "stdout",
     "output_type": "stream",
     "text": [
      "69 0.00036612420808523893 0.00026702237664721906\n"
     ]
    },
    {
     "name": "stderr",
     "output_type": "stream",
     "text": [
      " 81%|█████████████████████████████████████████████████████████████████▌               | 81/100 [00:10<00:02,  7.74it/s]"
     ]
    },
    {
     "name": "stdout",
     "output_type": "stream",
     "text": [
      "79 0.00037375398096628487 0.00031330843921750784\n"
     ]
    },
    {
     "name": "stderr",
     "output_type": "stream",
     "text": [
      " 91%|█████████████████████████████████████████████████████████████████████████▋       | 91/100 [00:11<00:01,  7.29it/s]"
     ]
    },
    {
     "name": "stdout",
     "output_type": "stream",
     "text": [
      "89 0.00034130088170059025 0.00026046429411508143\n"
     ]
    },
    {
     "name": "stderr",
     "output_type": "stream",
     "text": [
      "100%|████████████████████████████████████████████████████████████████████████████████| 100/100 [00:12<00:00,  7.72it/s]"
     ]
    },
    {
     "name": "stdout",
     "output_type": "stream",
     "text": [
      "99 0.0003184002125635743 0.0002218081062892452\n"
     ]
    },
    {
     "name": "stderr",
     "output_type": "stream",
     "text": [
      "\n"
     ]
    }
   ],
   "source": [
    "modelCNN = ModelCNN(5)\n",
    "optimizer = optim.Adam(modelCNN.parameters())\n",
    "criterion = nn.MSELoss()\n",
    "\n",
    "logsCNN = {}\n",
    "for i in trange(100):\n",
    "    for X, y in trainloader:\n",
    "        y_pred = modelCNN(X)\n",
    "        loss = criterion(y_pred, y)\n",
    "        optimizer.zero_grad()\n",
    "        loss.backward()\n",
    "        optimizer.step()\n",
    "    if (i+1) % 10 ==0:\n",
    "        with torch.no_grad():\n",
    "            train_pred = modelCNN(X_train)\n",
    "            train_mse = criterion(train_pred, y_train)\n",
    "            test_pred = modelCNN(X_test)\n",
    "            test_mse = criterion(test_pred, y_test)\n",
    "            print(i, train_mse.item(), test_mse.item())\n",
    "        logsCNN[i] = {\"train_mse\":train_mse.item(), \"test_mse\":test_mse.item()}"
   ]
  },
  {
   "cell_type": "code",
   "execution_count": 29,
   "id": "49641e6a-c04d-44b0-a6c8-b0bd5ec043fc",
   "metadata": {},
   "outputs": [
    {
     "name": "stdout",
     "output_type": "stream",
     "text": [
      "graph(%self.1 : __torch__.___torch_mangle_51.ModelCNN,\n",
      "      %x : Float(61, 30, 5, strides=[150, 5, 1], requires_grad=0, device=cpu)):\n",
      "  %net : __torch__.torch.nn.modules.container.___torch_mangle_50.Sequential = prim::GetAttr[name=\"net\"](%self.1)\n",
      "  %31 : int = prim::Constant[value=0]() # C:\\Users\\Luan\\AppData\\Local\\Temp\\ipykernel_5976\\3051086928.py:16:0\n",
      "  %32 : int = prim::Constant[value=2]() # C:\\Users\\Luan\\AppData\\Local\\Temp\\ipykernel_5976\\3051086928.py:16:0\n",
      "  %33 : int = prim::Constant[value=1]() # C:\\Users\\Luan\\AppData\\Local\\Temp\\ipykernel_5976\\3051086928.py:16:0\n",
      "  %34 : int[] = prim::ListConstruct(%31, %32, %33)\n",
      "  %input.1 : Float(61, 5, 30, strides=[150, 1, 5], requires_grad=0, device=cpu) = aten::permute(%x, %34) # C:\\Users\\Luan\\AppData\\Local\\Temp\\ipykernel_5976\\3051086928.py:16:0\n",
      "  %116 : int = prim::Constant[value=-1](), scope: __module.net/__module.net.4 # C:\\ProgramData\\Miniconda3\\lib\\site-packages\\torch\\nn\\modules\\flatten.py:45:0\n",
      "  %117 : int = prim::Constant[value=2](), scope: __module.net/__module.net.1 # C:\\ProgramData\\Miniconda3\\lib\\site-packages\\torch\\nn\\modules\\pooling.py:542:0\n",
      "  %118 : int = prim::Constant[value=1](), scope: __module.net/__module.net.0 # C:\\ProgramData\\Miniconda3\\lib\\site-packages\\torch\\nn\\modules\\conv.py:298:0\n",
      "  %119 : int = prim::Constant[value=0](), scope: __module.net/__module.net.0 # C:\\ProgramData\\Miniconda3\\lib\\site-packages\\torch\\nn\\modules\\conv.py:298:0\n",
      "  %120 : bool = prim::Constant[value=0](), scope: __module.net/__module.net.0 # C:\\ProgramData\\Miniconda3\\lib\\site-packages\\torch\\nn\\modules\\conv.py:298:0\n",
      "  %121 : bool = prim::Constant[value=1](), scope: __module.net/__module.net.0 # C:\\ProgramData\\Miniconda3\\lib\\site-packages\\torch\\nn\\modules\\conv.py:298:0\n",
      "  %_5 : __torch__.torch.nn.modules.linear.___torch_mangle_49.Linear = prim::GetAttr[name=\"5\"](%net)\n",
      "  %_4 : __torch__.torch.nn.modules.flatten.___torch_mangle_48.Flatten = prim::GetAttr[name=\"4\"](%net)\n",
      "  %_3 : __torch__.torch.nn.modules.pooling.___torch_mangle_47.AvgPool1d = prim::GetAttr[name=\"3\"](%net)\n",
      "  %_2 : __torch__.torch.nn.modules.conv.___torch_mangle_46.Conv1d = prim::GetAttr[name=\"2\"](%net)\n",
      "  %_1 : __torch__.torch.nn.modules.pooling.___torch_mangle_45.AvgPool1d = prim::GetAttr[name=\"1\"](%net)\n",
      "  %_0 : __torch__.torch.nn.modules.conv.___torch_mangle_44.Conv1d = prim::GetAttr[name=\"0\"](%net)\n",
      "  %bias.5 : Tensor = prim::GetAttr[name=\"bias\"](%_0)\n",
      "  %weight.5 : Tensor = prim::GetAttr[name=\"weight\"](%_0)\n",
      "  %130 : int[] = prim::ListConstruct(%118), scope: __module.net/__module.net.0\n",
      "  %131 : int[] = prim::ListConstruct(%119), scope: __module.net/__module.net.0\n",
      "  %132 : int[] = prim::ListConstruct(%118), scope: __module.net/__module.net.0\n",
      "  %133 : int[] = prim::ListConstruct(%119), scope: __module.net/__module.net.0\n",
      "  %input.3 : Float(61, 8, 28, strides=[224, 28, 1], requires_grad=0, device=cpu) = aten::_convolution(%input.1, %weight.5, %bias.5, %130, %131, %132, %120, %133, %118, %120, %120, %121, %121), scope: __module.net/__module.net.0 # C:\\ProgramData\\Miniconda3\\lib\\site-packages\\torch\\nn\\modules\\conv.py:298:0\n",
      "  %135 : int[] = prim::ListConstruct(%117), scope: __module.net/__module.net.1\n",
      "  %136 : int[] = prim::ListConstruct(%117), scope: __module.net/__module.net.1\n",
      "  %137 : int[] = prim::ListConstruct(%119), scope: __module.net/__module.net.1\n",
      "  %input.5 : Float(61, 8, 14, strides=[112, 14, 1], requires_grad=1, device=cpu) = aten::avg_pool1d(%input.3, %135, %136, %137, %120, %121), scope: __module.net/__module.net.1 # C:\\ProgramData\\Miniconda3\\lib\\site-packages\\torch\\nn\\modules\\pooling.py:542:0\n",
      "  %bias.7 : Tensor = prim::GetAttr[name=\"bias\"](%_2)\n",
      "  %weight.7 : Tensor = prim::GetAttr[name=\"weight\"](%_2)\n",
      "  %141 : int[] = prim::ListConstruct(%118), scope: __module.net/__module.net.2\n",
      "  %142 : int[] = prim::ListConstruct(%119), scope: __module.net/__module.net.2\n",
      "  %143 : int[] = prim::ListConstruct(%118), scope: __module.net/__module.net.2\n",
      "  %144 : int[] = prim::ListConstruct(%119), scope: __module.net/__module.net.2\n",
      "  %input.7 : Float(61, 4, 12, strides=[48, 12, 1], requires_grad=0, device=cpu) = aten::_convolution(%input.5, %weight.7, %bias.7, %141, %142, %143, %120, %144, %118, %120, %120, %121, %121), scope: __module.net/__module.net.2 # C:\\ProgramData\\Miniconda3\\lib\\site-packages\\torch\\nn\\modules\\conv.py:298:0\n",
      "  %146 : int[] = prim::ListConstruct(%117), scope: __module.net/__module.net.3\n",
      "  %147 : int[] = prim::ListConstruct(%117), scope: __module.net/__module.net.3\n",
      "  %148 : int[] = prim::ListConstruct(%119), scope: __module.net/__module.net.3\n",
      "  %input.9 : Float(61, 4, 6, strides=[24, 6, 1], requires_grad=1, device=cpu) = aten::avg_pool1d(%input.7, %146, %147, %148, %120, %121), scope: __module.net/__module.net.3 # C:\\ProgramData\\Miniconda3\\lib\\site-packages\\torch\\nn\\modules\\pooling.py:542:0\n",
      "  %input : Float(61, 24, strides=[24, 1], requires_grad=1, device=cpu) = aten::flatten(%input.9, %118, %116), scope: __module.net/__module.net.4 # C:\\ProgramData\\Miniconda3\\lib\\site-packages\\torch\\nn\\modules\\flatten.py:45:0\n",
      "  %bias : Tensor = prim::GetAttr[name=\"bias\"](%_5)\n",
      "  %weight : Tensor = prim::GetAttr[name=\"weight\"](%_5)\n",
      "  %153 : Float(61, 1, strides=[1, 1], requires_grad=1, device=cpu) = aten::linear(%input, %weight, %bias), scope: __module.net/__module.net.5 # C:\\ProgramData\\Miniconda3\\lib\\site-packages\\torch\\nn\\modules\\linear.py:103:0\n",
      "  return (%153)\n",
      "\n"
     ]
    }
   ],
   "source": [
    "writer.add_graph(model=modelCNN, input_to_model=X, verbose=True)"
   ]
  },
  {
   "cell_type": "code",
   "execution_count": 16,
   "id": "5eab5aff-48fb-4e0b-989f-443f32aa36fb",
   "metadata": {},
   "outputs": [
    {
     "data": {
      "text/plain": [
       "<matplotlib.legend.Legend at 0x1efeacdc760>"
      ]
     },
     "execution_count": 16,
     "metadata": {},
     "output_type": "execute_result"
    },
    {
     "data": {
      "image/png": "[encoded data removed]",
      "text/plain": [
       "<Figure size 432x288 with 1 Axes>"
      ]
     },
     "metadata": {
      "needs_background": "light"
     },
     "output_type": "display_data"
    }
   ],
   "source": [
    "plt.plot(y_test, label=\"true\")\n",
    "y_pred_CNN = modelCNN(X_test).data\n",
    "plt.plot(y_pred_CNN, label=\"pred_CNN\")\n",
    "plt.legend()"
   ]
  },
  {
   "cell_type": "markdown",
   "id": "6d4ef8b7-e786-4069-8346-3aa7bad1f896",
   "metadata": {},
   "source": [
    "## RNN 模型"
   ]
  },
  {
   "cell_type": "code",
   "execution_count": 17,
   "id": "3903020b-b27e-410f-b525-8d5d15e6dc68",
   "metadata": {
    "tags": []
   },
   "outputs": [],
   "source": [
    "class ModelRNN(nn.Module):\n",
    "    def __init__(self, input_size, hidden_size):\n",
    "        super().__init__()\n",
    "        self.input_size = input_size\n",
    "        self.hidden_size = hidden_size\n",
    "        \n",
    "        # 注意，这里设置batch_first=True\n",
    "        self.gru = nn.GRU(input_size=input_size, hidden_size=hidden_size, batch_first=True)\n",
    "        self.activation = nn.ReLU()\n",
    "        self.output = nn.Linear(hidden_size, 1)\n",
    "        \n",
    "    def forward(self, x):\n",
    "        _, hidden = self.gru(x)\n",
    "        hidden = hidden.squeeze(0)\n",
    "        hidden = self.activation(hidden)\n",
    "        return self.output(hidden)"
   ]
  },
  {
   "cell_type": "code",
   "execution_count": 18,
   "id": "7b88df7d-ce78-4a14-9975-330b1bb04ecc",
   "metadata": {},
   "outputs": [
    {
     "name": "stderr",
     "output_type": "stream",
     "text": [
      " 10%|████████                                                                         | 10/100 [00:04<00:42,  2.12it/s]"
     ]
    },
    {
     "name": "stdout",
     "output_type": "stream",
     "text": [
      "9 0.012753323651850224 0.016580378636717796\n"
     ]
    },
    {
     "name": "stderr",
     "output_type": "stream",
     "text": [
      " 20%|████████████████▏                                                                | 20/100 [00:09<00:36,  2.17it/s]"
     ]
    },
    {
     "name": "stdout",
     "output_type": "stream",
     "text": [
      "19 0.0003434719401411712 0.0027358615770936012\n"
     ]
    },
    {
     "name": "stderr",
     "output_type": "stream",
     "text": [
      " 30%|████████████████████████▎                                                        | 30/100 [00:13<00:32,  2.13it/s]"
     ]
    },
    {
     "name": "stdout",
     "output_type": "stream",
     "text": [
      "29 0.0002829447912517935 0.002079923404380679\n"
     ]
    },
    {
     "name": "stderr",
     "output_type": "stream",
     "text": [
      " 40%|████████████████████████████████▍                                                | 40/100 [00:18<00:28,  2.14it/s]"
     ]
    },
    {
     "name": "stdout",
     "output_type": "stream",
     "text": [
      "39 0.00026205528411082923 0.0017521214904263616\n"
     ]
    },
    {
     "name": "stderr",
     "output_type": "stream",
     "text": [
      " 50%|████████████████████████████████████████▌                                        | 50/100 [00:23<00:24,  2.05it/s]"
     ]
    },
    {
     "name": "stdout",
     "output_type": "stream",
     "text": [
      "49 0.00023914763005450368 0.0015316646313294768\n"
     ]
    },
    {
     "name": "stderr",
     "output_type": "stream",
     "text": [
      " 60%|████████████████████████████████████████████████▌                                | 60/100 [00:27<00:18,  2.18it/s]"
     ]
    },
    {
     "name": "stdout",
     "output_type": "stream",
     "text": [
      "59 0.00023160388809628785 0.0013268936891108751\n"
     ]
    },
    {
     "name": "stderr",
     "output_type": "stream",
     "text": [
      " 70%|████████████████████████████████████████████████████████▋                        | 70/100 [00:32<00:13,  2.27it/s]"
     ]
    },
    {
     "name": "stdout",
     "output_type": "stream",
     "text": [
      "69 0.00022359365539159626 0.0012075452832505107\n"
     ]
    },
    {
     "name": "stderr",
     "output_type": "stream",
     "text": [
      " 80%|████████████████████████████████████████████████████████████████▊                | 80/100 [00:36<00:09,  2.20it/s]"
     ]
    },
    {
     "name": "stdout",
     "output_type": "stream",
     "text": [
      "79 0.0002185828925576061 0.0011373759480193257\n"
     ]
    },
    {
     "name": "stderr",
     "output_type": "stream",
     "text": [
      " 90%|████████████████████████████████████████████████████████████████████████▉        | 90/100 [00:41<00:04,  2.09it/s]"
     ]
    },
    {
     "name": "stdout",
     "output_type": "stream",
     "text": [
      "89 0.00021677454060409218 0.0010881763882935047\n"
     ]
    },
    {
     "name": "stderr",
     "output_type": "stream",
     "text": [
      "100%|████████████████████████████████████████████████████████████████████████████████| 100/100 [00:45<00:00,  2.18it/s]"
     ]
    },
    {
     "name": "stdout",
     "output_type": "stream",
     "text": [
      "99 0.00023444437829311937 0.0010813606204465032\n"
     ]
    },
    {
     "name": "stderr",
     "output_type": "stream",
     "text": [
      "\n"
     ]
    }
   ],
   "source": [
    "modelRNN = ModelRNN(5, 4)\n",
    "optimizer = optim.Adam(modelRNN.parameters())\n",
    "criterion = nn.MSELoss()\n",
    "\n",
    "logsRNN = {}\n",
    "for i in trange(100):\n",
    "    for X, y in trainloader:\n",
    "        y_pred = modelRNN(X)\n",
    "        loss = criterion(y_pred, y)\n",
    "        optimizer.zero_grad()\n",
    "        loss.backward()\n",
    "        optimizer.step()\n",
    "    if (i+1) % 10 ==0:\n",
    "        with torch.no_grad():\n",
    "            train_pred = modelRNN(X_train)\n",
    "            train_mse = criterion(train_pred, y_train)\n",
    "            test_pred = modelRNN(X_test)\n",
    "            test_mse = criterion(test_pred, y_test)\n",
    "            print(i, train_mse.item(), test_mse.item())\n",
    "        logsRNN[i] = {\"train_mse\":train_mse.item(), \"test_mse\":test_mse.item()}"
   ]
  },
  {
   "cell_type": "code",
   "execution_count": 20,
   "id": "6344dbb9-5dbb-443a-bd59-0d3af871c9f0",
   "metadata": {},
   "outputs": [
    {
     "data": {
      "text/plain": [
       "<AxesSubplot:>"
      ]
     },
     "execution_count": 20,
     "metadata": {},
     "output_type": "execute_result"
    },
    {
     "data": {
      "image/png": "[encoded data removed]",
      "text/plain": [
       "<Figure size 432x288 with 1 Axes>"
      ]
     },
     "metadata": {
      "needs_background": "light"
     },
     "output_type": "display_data"
    }
   ],
   "source": [
    "pd.DataFrame(logsRNN).T.plot()"
   ]
  },
  {
   "cell_type": "code",
   "execution_count": 21,
   "id": "4680cd2e-b33f-4a7c-91fe-fd708c21d2f9",
   "metadata": {},
   "outputs": [
    {
     "data": {
      "text/plain": [
       "<matplotlib.legend.Legend at 0x1ef83fc76d0>"
      ]
     },
     "execution_count": 21,
     "metadata": {},
     "output_type": "execute_result"
    },
    {
     "data": {
      "image/png": "[encoded data removed]",
      "text/plain": [
       "<Figure size 432x288 with 1 Axes>"
      ]
     },
     "metadata": {
      "needs_background": "light"
     },
     "output_type": "display_data"
    }
   ],
   "source": [
    "plt.plot(y_test, label=\"true\")\n",
    "y_pred_RNN = modelRNN(X_test).data\n",
    "plt.plot(y_pred_RNN, label=\"pred_RNN\")\n",
    "plt.legend()"
   ]
  },
  {
   "cell_type": "code",
   "execution_count": 22,
   "id": "21b089c2-be5f-493f-bdf7-18dfaec8313f",
   "metadata": {},
   "outputs": [
    {
     "data": {
      "text/plain": [
       "<matplotlib.legend.Legend at 0x1ef84073df0>"
      ]
     },
     "execution_count": 22,
     "metadata": {},
     "output_type": "execute_result"
    },
    {
     "data": {
      "image/png": "[encoded data removed]",
      "text/plain": [
       "<Figure size 432x288 with 1 Axes>"
      ]
     },
     "metadata": {
      "needs_background": "light"
     },
     "output_type": "display_data"
    }
   ],
   "source": [
    "plt.plot(y_test, label=\"true\")\n",
    "plt.plot(y_pred_DNN, label=\"pred_DNN\")\n",
    "plt.plot(y_pred_CNN, label=\"pred_CNN\")\n",
    "plt.plot(y_pred_RNN, label=\"pred_RNN\")\n",
    "plt.legend()"
   ]
  },
  {
   "cell_type": "code",
   "execution_count": 23,
   "id": "8b3ffd3c-1b33-48a1-bbd7-50ae500a03ff",
   "metadata": {},
   "outputs": [
    {
     "data": {
      "text/plain": [
       "(0.9928134778867342, 0.9893679416664234, 0.9408916777359665)"
      ]
     },
     "execution_count": 23,
     "metadata": {},
     "output_type": "execute_result"
    }
   ],
   "source": [
    "r2_score(y_test, y_pred_DNN), r2_score(y_test, y_pred_CNN), r2_score(y_test, y_pred_RNN)"
   ]
  },
  {
   "cell_type": "code",
   "execution_count": 24,
   "id": "1243d638-27fd-42f1-83ee-d48a9bd38668",
   "metadata": {},
   "outputs": [],
   "source": [
    "dfDNN = pd.DataFrame(logsDNN).T.rename(columns={\"train_mse\":\"DNN_train_mse\", \"test_mse\":\"DNN_test_mse\"})\n",
    "dfCNN = pd.DataFrame(logsCNN).T.rename(columns={\"train_mse\":\"CNN_train_mse\", \"test_mse\":\"CNN_test_mse\"})\n",
    "dfRNN = pd.DataFrame(logsRNN).T.rename(columns={\"train_mse\":\"RNN_train_mse\", \"test_mse\":\"RNN_test_mse\"})"
   ]
  },
  {
   "cell_type": "code",
   "execution_count": 25,
   "id": "84614e55-431a-4e17-9ea6-74e7c035b4c7",
   "metadata": {},
   "outputs": [
    {
     "data": {
      "text/plain": [
       "<AxesSubplot:>"
      ]
     },
     "execution_count": 25,
     "metadata": {},
     "output_type": "execute_result"
    },
    {
     "data": {
      "image/png": "[encoded data removed]",
      "text/plain": [
       "<Figure size 432x288 with 1 Axes>"
      ]
     },
     "metadata": {
      "needs_background": "light"
     },
     "output_type": "display_data"
    }
   ],
   "source": [
    "pd.concat((dfDNN, dfCNN, dfRNN), axis=1)[[\"DNN_test_mse\", \"CNN_test_mse\", \"RNN_test_mse\"]].plot()"
   ]
  },
  {
   "cell_type": "code",
   "execution_count": null,
   "id": "bc6b594c-15cf-46a6-b57a-838922ee872e",
   "metadata": {},
   "outputs": [],
   "source": []
  }
 ],
 "metadata": {
  "kernelspec": {
   "display_name": "Python 3",
   "language": "python",
   "name": "python3"
  },
  "language_info": {
   "codemirror_mode": {
    "name": "ipython",
    "version": 3
   },
   "file_extension": ".py",
   "mimetype": "text/x-python",
   "name": "python",
   "nbconvert_exporter": "python",
   "pygments_lexer": "ipython3",
   "version": "3.8.12"
  }
 },
 "nbformat": 4,
 "nbformat_minor": 5
}
